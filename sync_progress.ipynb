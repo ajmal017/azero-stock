{
 "cells": [
  {
   "cell_type": "code",
   "execution_count": 8,
   "metadata": {},
   "outputs": [],
   "source": [
    "import os"
   ]
  },
  {
   "cell_type": "code",
   "execution_count": 19,
   "metadata": {},
   "outputs": [
    {
     "name": "stdout",
     "output_type": "stream",
     "text": [
      "20 162 Historical Market Data Service error message:Historical data request pacing violation\n",
      "(20, 'error', 162, 'Historical Market Data Service error message:Historical data request pacing violation')\n",
      "20\n",
      "getting history data\n",
      "20 162 Historical Market Data Service error message:Historical data request pacing violation\n",
      "(20, 'error', 162, 'Historical Market Data Service error message:Historical data request pacing violation')\n",
      "\n"
     ]
    }
   ],
   "source": [
    "with open('ib_sync_1S.log') as f:\n",
    "    lines = f.readlines()\n",
    "    \n",
    "print(''.join(lines[-6:]))"
   ]
  },
  {
   "cell_type": "code",
   "execution_count": 20,
   "metadata": {},
   "outputs": [
    {
     "name": "stdout",
     "output_type": "stream",
     "text": [
      "getting historical ticks\n",
      "getting historical ticks\n",
      "getting historical ticksINFO:ib_sync_log:synced CSCO~2018-08-25 08:23:44~20180709 09:34:07\n",
      "INFO:ib_sync_log:synced CSCO~2018-08-25 08:23:56~20180709 09:31:44\n",
      "INFO:ib_sync_log:synced CSCO~2018-08-25 08:24:08~20180709 09:30:11\n",
      "INFO:ib_sync_log:synced CSCO~2018-08-25 08:24:14~20180709 04:49:28\n",
      "\n"
     ]
    }
   ],
   "source": [
    "with open('ib_sync_tick.log') as f:\n",
    "    lines = f.readlines()\n",
    "    \n",
    "print(''.join(lines[-6:]))"
   ]
  }
 ],
 "metadata": {
  "kernelspec": {
   "display_name": "Python 3",
   "language": "python",
   "name": "python3"
  },
  "language_info": {
   "codemirror_mode": {
    "name": "ipython",
    "version": 3
   },
   "file_extension": ".py",
   "mimetype": "text/x-python",
   "name": "python",
   "nbconvert_exporter": "python",
   "pygments_lexer": "ipython3",
   "version": "3.5.2"
  }
 },
 "nbformat": 4,
 "nbformat_minor": 2
}
